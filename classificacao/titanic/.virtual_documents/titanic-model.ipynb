# bibliotecas manipulaçao de dados
import numpy as np # linear algebra
import pandas as pd # data processing, CSV file I/O (e.g. pd.read_csv)
from IPython.core.display import display, HTML

# bibliotecas de Visualização
import matplotlib.pyplot as plt
plt.style.use('seaborn-darkgrid')  #darkgrid , whitegrid , dark , white , and ticks 
import seaborn as sns
display(HTML("<style>.container {width:100% !important; }</style>"))

# maximiza o número de colunas e linhas para impressão 
# quando do uso da função head() do pandas
pd.options.display.max_columns = 15
pd.options.display.max_rows = 50
import warnings
warnings.filterwarnings('ignore')


train = pd.read_csv(r'../titanic/data/train.csv')
test = pd.read_csv(r'../titanic/data/test.csv')
gender_submission = pd.read_csv(r'../titanic/data/kaggle_submission.csv')


train.head()


test.head()


gender_submission.head()


#Save PassengerId to assist in creating the file that will be sent to Kaggle
passengerId = test['PassengerId']



# Creating a new DF with Train and test
titanic_df = train._append(test, ignore_index=True)



# Apresentar Cabeçalho
display(HTML('<H3><B>BASE DE DADOS TITANIC<b></h3></hr>'))
# CONSTANTES
NUM_POPULACAO = titanic_df.shape[0]
NUM_ATRIBUTOS = titanic_df.shape[1]

# Carregando 1o amostras aleatórias
display(titanic_df.sample(10))
display(HTML('<hr/><b>População: </b>' + 
             str(NUM_POPULACAO) +
             ' | Númeor de Atributos: ' +
             str(NUM_ATRIBUTOS)  + '</H3>'))


# Missing
titanic_df.isnull().sum()


# type data
titanic_df.info()


# estictis data
titanic_df.describe().style.background_gradient(cmap = "Purples_r")


# Creating the df where we will process the ML models
df = pd.DataFrame()


def titanic_analytics (data, column, number=True):
    print(f"Number of single values: {data[column].nunique()}")
    print(f"\nWhat are the unique values: {data[column].unique()}")
    print(f"\nNumber quantity missing: {data[column].isnull().sum()}")
    print(f"\nQuantity by option:  \n{data[column].value_counts()}")
    
    if number == True:
        sns.countplot(data = data, x= column, hue = 'Survived')
    else:
        sns.displot(data[column], kde=True)


titanic_analytics(titanic_df, 'Survived')


df['Survived'] = titanic_df['Survived']
df


titanic_analytics(titanic_df, 'Pclass')


df['Pclass']=titanic_df['Pclass']
df


titanic_df['Name'].sample(10)


# Create feature Title
titanic_df['Title']=titanic_df['Name'].apply(lambda name: name.split(',')[1].split('.')[0].strip())
titanic_df['Title']


titanic_analytics(titanic_df, 'Title')


# Agrupando dos titulos de baixa frequência
titanic_df['Title'] = [n if n in ['Mr', 'Mrs', 'Miss', 'Master'] else 'Others' for n in titanic_df['Title'] ]
titanic_df['Title']


title = titanic_df['Title'].value_counts()
title



title.plot(kind='pie', autopct='%1.1f%%', figsize=(8,5))
plt.title("Participação por título")

;


titanic_analytics(titanic_df, 'Title')


df['Title']=titanic_df['Title']
df


titanic_analytics(titanic_df, 'Sex')


df['Sex']=titanic_df['Sex']
df


titanic_analytics(titanic_df, 'Age', False)


titanic_df


titanic_df.loc[titanic_df['Title'] == 'Mr', 'Age'].mean()


for i in (titanic_df['Title'].unique()):
    print(f"Pesoas com o título {i} tem a média de idade de: {titanic_df.loc[titanic_df['Title'] == i, 'Age'].mean():.2f} ")



titanic_df.loc[(titanic_df['Title']=='Mr') & (titanic_df['Age'].isna()), 'Age'] = round(titanic_df.loc[titanic_df['Title'] == 'Mr', 'Age'].mean(),0)
titanic_df.loc[(titanic_df['Title']=='Mrs') & (titanic_df['Age'].isna()), 'Age'] = round(titanic_df.loc[titanic_df['Title'] == 'Mrs', 'Age'].mean(),0)
titanic_df.loc[(titanic_df['Title']=='Miss') & (titanic_df['Age'].isna()), 'Age'] = round(titanic_df.loc[titanic_df['Title'] == 'Miss', 'Age'].mean(),0)
titanic_df.loc[(titanic_df['Title']=='Master') & (titanic_df['Age'].isna()), 'Age'] = round(titanic_df.loc[titanic_df['Title'] == 'Master', 'Age'].mean(),0)
titanic_df.loc[(titanic_df['Title']=='Others') & (titanic_df['Age'].isna()), 'Age'] = round(titanic_df.loc[titanic_df['Title'] == 'Others', 'Age'].mean(),0)


titanic_df.isnull().sum()


titanic_df.columns


df['Age']=titanic_df['Age']
df


titanic_df['Score_Age'] = 0
age = titanic_df['Age']


for index, value in enumerate(age):
    if  value <= 13.0:
        print(1)
        titanic_df.iloc[index,13] = 1
    if  value >= 14 and value <=23:
        print(2)
        titanic_df.iloc[index,13] = 2
    if value >= 24 and value <= 35:
        print(3)
        titanic_df.iloc[index,13] = 3
    if value >= 36 and row['Age'] <= 50:
        print(4)
        titanic_df.iloc[index,13] = 4
    if value > 50:
        titanic_df.iloc[index,13] = 5


titanic_analytics(titanic_df, 'Score_Age')


df['Score_Age'] = titanic_df['Score_Age']
df


titanic_analytics(titanic_df, 'SibSp')


df['SibSp'] = titanic_df['SibSp']
df


titanic_analytics(titanic_df, 'Parch')


df['Parch'] = titanic_df['Parch']
df


titanic_df['FamilySize'] = titanic_df['SibSp']+titanic_df['Parch'] + 1
titanic_df.head()


titanic_analytics(titanic_df, 'FamilySize')


df['FamilySize'] =  titanic_df['FamilySize']
df


titanic_analytics(titanic_df, 'Fare', False)


titanic_df[titanic_df['Fare'].isnull()]


# vamos adicionar a mẽdia baseado em Pclass
media_fare = round(titanic_df.loc[titanic_df['Pclass'] == 3, 'Fare'].mean(),2)


titanic_df['Fare'].fillna(media_fare, inplace=True)


titanic_df[titanic_df['Fare'].isnull()]


df['Fare'] = titanic_df['Fare']


df



